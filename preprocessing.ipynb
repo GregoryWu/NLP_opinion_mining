{
 "cells": [
  {
   "cell_type": "code",
   "execution_count": null,
   "metadata": {
    "collapsed": false
   },
   "outputs": [],
   "source": [
    "import pandas as pd\n",
    "import numpy as np\n",
    "import jieba\n",
    "jieba.set_dictionary('/Users/henryyang/utils/dict.big.txt')"
   ]
  },
  {
   "cell_type": "code",
   "execution_count": null,
   "metadata": {
    "collapsed": false
   },
   "outputs": [],
   "source": [
    "# Preprocessing (seg)\n",
    "# Comebine test data & review \n",
    "test_data = pd.read_csv('data/test.csv')\n",
    "review = {}\n",
    "with open('data/test_review.txt') as f:\n",
    "    lines = [line.strip() for line in f.readlines()]\n",
    "    for i in range(0, len(lines), 2):\n",
    "        review[int(lines[i])] = ' '.join([tok for tok in jieba.cut(lines[i+1])])\n",
    "\n",
    "test_data['Review'] = [review[review_id] for review_id in test_data.Review_id]\n",
    "test_data.to_csv('data/test_seg.csv', index=None)\n",
    "\n",
    "# Seg polarity review\n",
    "review, polarity = [], []\n",
    "with open('data/polarity_review.txt') as f:\n",
    "    for line in [line.strip() for line in f.readlines()]:\n",
    "        l = line.split('\\t')\n",
    "        polarity.append(int(l[0]))\n",
    "        review.append(' '.join([tok for tok in jieba.cut(l[1])]))\n",
    "pd.DataFrame({'Polarity': polarity, 'Review': review}).to_csv('data/polarity_review_seg.csv', index=None)\n",
    "\n",
    "# Seg aspect review\n",
    "aspect_review = []\n",
    "with open('data/aspect_review.txt') as f:\n",
    "    lines = [line.strip() for line in f.readlines()]\n",
    "    for i in range(0, len(lines), 4):\n",
    "        aspect_review.append({\n",
    "                'Id': int(lines[i]),\n",
    "                'Review': ' '.join([tok for tok in jieba.cut(lines[i+1])]),\n",
    "                'Pos': lines[i+2],\n",
    "                'Neg': lines[i+3]\n",
    "            })\n",
    "pd.DataFrame(aspect_review).to_csv('data/aspect_review_seg.csv', index=None)"
   ]
  }
 ],
 "metadata": {
  "kernelspec": {
   "display_name": "Python 3",
   "language": "python",
   "name": "python3"
  },
  "language_info": {
   "codemirror_mode": {
    "name": "ipython",
    "version": 3
   },
   "file_extension": ".py",
   "mimetype": "text/x-python",
   "name": "python",
   "nbconvert_exporter": "python",
   "pygments_lexer": "ipython3",
   "version": "3.5.2"
  }
 },
 "nbformat": 4,
 "nbformat_minor": 1
}
