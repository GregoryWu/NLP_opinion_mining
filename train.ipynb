{
 "cells": [
  {
   "cell_type": "code",
   "execution_count": 1,
   "metadata": {
    "collapsed": true
   },
   "outputs": [],
   "source": [
    "import pandas as pd\n",
    "import numpy as np\n",
    "\n",
    "# Load preprocessed data\n",
    "with open('data/NTUSD_neg.txt') as f:\n",
    "    neg_tag = [line.strip() for line in f.readlines()]\n",
    "\n",
    "with open('data/NTUSD_pos.txt') as f:\n",
    "    pos_tag = [line.strip() for line in f.readlines()]\n",
    "\n",
    "test_data = pd.read_csv('data/test_seg.csv')\n",
    "polarity_review = pd.read_csv('data/polarity_review_seg.csv')\n",
    "aspect_review = pd.read_csv('data/aspect_review_seg.csv')"
   ]
  },
  {
   "cell_type": "code",
   "execution_count": null,
   "metadata": {
    "collapsed": true
   },
   "outputs": [],
   "source": [
    "# Generate output\n",
    "labels = []\n",
    "for row in test_data.as_matrix():\n",
    "    labels.append(0)\n",
    "pd.DataFrame({'Id': test_data.Id, 'Label': labels}).to_csv('submit.csv', index=None)"
   ]
  }
 ],
 "metadata": {
  "kernelspec": {
   "display_name": "Python 3",
   "language": "python",
   "name": "python3"
  },
  "language_info": {
   "codemirror_mode": {
    "name": "ipython",
    "version": 3
   },
   "file_extension": ".py",
   "mimetype": "text/x-python",
   "name": "python",
   "nbconvert_exporter": "python",
   "pygments_lexer": "ipython3",
   "version": "3.5.2"
  }
 },
 "nbformat": 4,
 "nbformat_minor": 1
}
